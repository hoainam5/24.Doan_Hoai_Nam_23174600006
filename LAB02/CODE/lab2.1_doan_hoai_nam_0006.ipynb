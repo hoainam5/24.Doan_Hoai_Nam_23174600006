{
 "cells": [
  {
   "cell_type": "code",
   "execution_count": 1,
   "metadata": {},
   "outputs": [
    {
     "name": "stdout",
     "output_type": "stream",
     "text": [
      "[26.68 26.86 30.02 33.34 32.02 31.52 29.   33.39 27.04 30.74 27.02 25.\n",
      " 25.16 33.47 27.65 25.87 33.53 34.44 31.11 29.26 29.01 26.4  34.11 25.71\n",
      " 26.33 33.6  28.78 32.3  29.45 34.75]\n"
     ]
    }
   ],
   "source": [
    "import numpy as np\n",
    "import random \n",
    "temperatures = np.round(np.random.uniform(25,35,30),2)\n",
    "print(temperatures)\n"
   ]
  },
  {
   "cell_type": "code",
   "execution_count": 2,
   "metadata": {},
   "outputs": [
    {
     "name": "stdout",
     "output_type": "stream",
     "text": [
      "nhiệt độ trung bình tháng là 29.78533333333333\n"
     ]
    }
   ],
   "source": [
    "# nhiệt độ trung bình\n",
    "ndtb = np.mean(temperatures)\n",
    "print('nhiệt độ trung bình tháng là',ndtb)\n"
   ]
  },
  {
   "cell_type": "code",
   "execution_count": 3,
   "metadata": {},
   "outputs": [
    {
     "name": "stdout",
     "output_type": "stream",
     "text": [
      "\n",
      "Nhiệt độ cao nhất là 34.75°C vào ngày thứ 30\n",
      "Nhiệt độ thấp nhất là 25.0°C vào ngày thứ 12\n"
     ]
    }
   ],
   "source": [
    "# Tìm nhiệt độ cao nhất và thấp nhất\n",
    "max_temp = np.max(temperatures)\n",
    "min_temp = np.min(temperatures)\n",
    "\n",
    "# Xác định chỉ số (ngày) của nhiệt độ cao nhất và thấp nhất\n",
    "day_max_temp = np.argmax(temperatures) + 1  # Ngày bắt đầu từ 1\n",
    "day_min_temp = np.argmin(temperatures) + 1\n",
    "print(f\"\\nNhiệt độ cao nhất là {max_temp}°C vào ngày thứ {day_max_temp}\")\n",
    "print(f\"Nhiệt độ thấp nhất là {min_temp}°C vào ngày thứ {day_min_temp}\")"
   ]
  },
  {
   "cell_type": "code",
   "execution_count": 4,
   "metadata": {},
   "outputs": [
    {
     "name": "stdout",
     "output_type": "stream",
     "text": [
      "\n",
      "Sự chênh lệch nhiệt độ giữa các ngày:\n",
      "[0.18 3.16 3.32 1.32 0.5  2.52 4.39 6.35 3.7  3.72 2.02 0.16 8.31 5.82\n",
      " 1.78 7.66 0.91 3.33 1.85 0.25 2.61 7.71 8.4  0.62 7.27 4.82 3.52 2.85\n",
      " 5.3 ]\n",
      "\n",
      "Sự chênh lệch nhiệt độ lớn nhất là 8.40°C xảy ra giữa ngày thứ 23 và ngày thứ 24.\n"
     ]
    }
   ],
   "source": [
    "# Tính sự chênh lệch nhiệt độ giữa các ngày liên tiếp\n",
    "temperature_differences = np.abs(np.diff(temperatures))\n",
    "\n",
    "# Tìm sự chênh lệch lớn nhất và ngày có sự biến đổi lớn nhất\n",
    "max_difference = np.max(temperature_differences)\n",
    "day_of_max_difference = np.argmax(temperature_differences) + 1  # Cộng 1 để quy đổi ngày\n",
    "print(\"\\nSự chênh lệch nhiệt độ giữa các ngày:\")\n",
    "print(temperature_differences)\n",
    "\n",
    "print(f\"\\nSự chênh lệch nhiệt độ lớn nhất là {max_difference:.2f}°C xảy ra giữa ngày thứ {day_of_max_difference} và ngày thứ {day_of_max_difference + 1}.\")"
   ]
  },
  {
   "cell_type": "code",
   "execution_count": 36,
   "metadata": {},
   "outputs": [
    {
     "name": "stdout",
     "output_type": "stream",
     "text": [
      "Các ngày có nhiệt độ trên 20°C: [ 1  2  3  4  5  6  7  8  9 10 11 12 13 14 15 16 17 18 19 20 21 22 23 24\n",
      " 25 26 27 28 29 30]\n",
      "Nhiệt độ các ngày 5, 10, 15, 20 và 25: [32.02 30.74 27.65 29.26 26.33]\n",
      "Nhiệt độ trên trung bình: [30.02 33.34 32.02 31.52 33.39 30.74 33.47 33.53 34.44 31.11 34.11 33.6\n",
      " 32.3  34.75]\n",
      "Nhiệt độ các ngày chẵn: [26.86 33.34 31.52 33.39 30.74 25.   33.47 25.87 34.44 29.26 26.4  25.71\n",
      " 33.6  32.3  34.75]\n",
      "Nhiệt độ các ngày lẻ: [26.68 30.02 32.02 29.   27.04 27.02 25.16 27.65 33.53 31.11 29.01 34.11\n",
      " 26.33 28.78 29.45]\n"
     ]
    }
   ],
   "source": [
    "ngay_t_cao_tren_20 = np.where(temperatures > 20)[0]+1\n",
    "ngay_can_kiem_tra = temperatures[[i-1 for i in [5, 10, 15, 20, 25]]]\n",
    "t_tren_tb = temperatures[temperatures > ndtb]\n",
    "ngay_chan = temperatures[1::2]\n",
    "ngay_le = temperatures[0::2]\n",
    "print(\"Các ngày có nhiệt độ trên 20°C:\", ngay_t_cao_tren_20)\n",
    "print(\"Nhiệt độ các ngày 5, 10, 15, 20 và 25:\", ngay_can_kiem_tra)\n",
    "print(\"Nhiệt độ trên trung bình:\", t_tren_tb)\n",
    "print(\"Nhiệt độ các ngày chẵn:\", ngay_chan)\n",
    "print(\"Nhiệt độ các ngày lẻ:\", ngay_le)"
   ]
  }
 ],
 "metadata": {
  "kernelspec": {
   "display_name": "Python 3",
   "language": "python",
   "name": "python3"
  },
  "language_info": {
   "codemirror_mode": {
    "name": "ipython",
    "version": 3
   },
   "file_extension": ".py",
   "mimetype": "text/x-python",
   "name": "python",
   "nbconvert_exporter": "python",
   "pygments_lexer": "ipython3",
   "version": "3.6.8"
  }
 },
 "nbformat": 4,
 "nbformat_minor": 2
}
