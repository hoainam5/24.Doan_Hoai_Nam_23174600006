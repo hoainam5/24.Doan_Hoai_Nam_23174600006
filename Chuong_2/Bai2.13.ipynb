{
 "cells": [
  {
   "cell_type": "code",
   "execution_count": 6,
   "metadata": {},
   "outputs": [
    {
     "name": "stdout",
     "output_type": "stream",
     "text": [
      "DANH SÁCH CÁC BÀI POST:\n",
      "   - id labore ex et quam laborum\n",
      "   - quo vero reiciendis velit similique earum\n",
      "   - odio adipisci rerum aut animi\n",
      "   - alias odio sit\n",
      "   - vero eaque aliquid doloribus et culpa\n",
      "DANG SÁCH THÔNG TIN CỦA MỖI BÀI POST:\n",
      "postId: 1\n",
      "ID: 1\n",
      "Tên: id labore ex et quam laborum\n",
      "Email: Eliseo@gardner.biz\n",
      "Nội dung: laudantium enim quasi est quidem magnam voluptate ipsam eos\n",
      "tempora quo necessitatibus\n",
      "dolor quam autem quasi\n",
      "reiciendis et nam sapiente accusantium\n",
      "==================================\n",
      "postId: 1\n",
      "ID: 2\n",
      "Tên: quo vero reiciendis velit similique earum\n",
      "Email: Jayne_Kuhic@sydney.com\n",
      "Nội dung: est natus enim nihil est dolore omnis voluptatem numquam\n",
      "et omnis occaecati quod ullam at\n",
      "voluptatem error expedita pariatur\n",
      "nihil sint nostrum voluptatem reiciendis et\n",
      "==================================\n",
      "postId: 1\n",
      "ID: 3\n",
      "Tên: odio adipisci rerum aut animi\n",
      "Email: Nikita@garfield.biz\n",
      "Nội dung: quia molestiae reprehenderit quasi aspernatur\n",
      "aut expedita occaecati aliquam eveniet laudantium\n",
      "omnis quibusdam delectus saepe quia accusamus maiores nam est\n",
      "cum et ducimus et vero voluptates excepturi deleniti ratione\n",
      "==================================\n",
      "postId: 1\n",
      "ID: 4\n",
      "Tên: alias odio sit\n",
      "Email: Lew@alysha.tv\n",
      "Nội dung: non et atque\n",
      "occaecati deserunt quas accusantium unde odit nobis qui voluptatem\n",
      "quia voluptas consequuntur itaque dolor\n",
      "et qui rerum deleniti ut occaecati\n",
      "==================================\n"
     ]
    }
   ],
   "source": [
    "import requests\n",
    "# Thực hiện yêu cầu HTTP đến URL ''\n",
    "response = requests.get('https://jsonplaceholder.typicode.com/comments?postId=1')\n",
    "# Kiểm tra xem yêu cầu thành công hay không\n",
    "if response.status_code == 200:\n",
    "# Nếu yêu cầu thành công, lấy dữ liệu JSON từ phản hồi\n",
    "    json_data = response.json()\n",
    " # In ra màn hình thông tin các bài đăng từ dữ liệu JSON\n",
    "    print('DANH SÁCH CÁC BÀI POST:')\n",
    "    for post in json_data:\n",
    "        print(\"   -\",post['name'])\n",
    "    print('DANG SÁCH THÔNG TIN CỦA MỖI BÀI POST:')\n",
    "    for post in json_data:\n",
    "        print(\"postId:\", post['postId'])\n",
    "        print(\"ID:\", post['id'])\n",
    "        print(\"Tên:\", post['name'])\n",
    "        print(\"Email:\", post['email'])\n",
    "        print(\"Nội dung:\", post['body'])\n",
    "        print(\"==================================\")\n",
    "        if post['id']==3:\n",
    "            break\n",
    "else:\n",
    "    print(\"Yêu cầu không thành công. Mã trạng thái:\", response.status_code)"
   ]
  }
 ],
 "metadata": {
  "language_info": {
   "name": "python"
  }
 },
 "nbformat": 4,
 "nbformat_minor": 2
}
